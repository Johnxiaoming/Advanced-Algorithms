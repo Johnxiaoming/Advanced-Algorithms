{
 "cells": [
  {
   "cell_type": "markdown",
   "metadata": {},
   "source": [
    "## Construct the Burrows-Wheeler Transform of a String\n",
    "[Rosalind BA9I](http://rosalind.info/problems/ba9i/)"
   ]
  },
  {
   "cell_type": "code",
   "execution_count": 124,
   "metadata": {},
   "outputs": [],
   "source": [
    "def rotations(t):\n",
    "    ''' Return list of rotations of input string t '''\n",
    "    tt = t * 2\n",
    "    return [ tt[i:i+len(t)] for i in range(0, len(t)) ]\n",
    "\n",
    "def bwm(t):\n",
    "    ''' Return lexicographically sorted list of t’s rotations '''\n",
    "    return sorted(rotations(t))\n",
    "\n",
    "def bwtViaBwm(t):\n",
    "    ''' Given T, returns BWT(T) by way of the BWM '''\n",
    "    return ''.join(map(lambda x: x[-1], bwm(t)))"
   ]
  },
  {
   "cell_type": "code",
   "execution_count": 125,
   "metadata": {},
   "outputs": [
    {
     "data": {
      "text/plain": [
       "'abba$aa'"
      ]
     },
     "execution_count": 125,
     "metadata": {},
     "output_type": "execute_result"
    }
   ],
   "source": [
    "t = 'abaaba$'\n",
    "b = bwtViaBwm(t)\n",
    "b"
   ]
  },
  {
   "cell_type": "markdown",
   "metadata": {},
   "source": [
    "## Reconstruct a String from its Burrows-Wheeler Transform\n",
    "[Rosalind BA9J](http://rosalind.info/problems/ba9j/)"
   ]
  },
  {
   "cell_type": "code",
   "execution_count": 126,
   "metadata": {},
   "outputs": [],
   "source": [
    "def rankBwt(bw):\n",
    "    ''' Given BWT string bw, return parallel list of B-ranks.  Also\n",
    "        returns tots: map from character to # times it appears. '''\n",
    "    tots = dict()\n",
    "    ranks = []\n",
    "    for c in bw:\n",
    "        if c not in tots: tots[c] = 0\n",
    "        ranks.append(tots[c])\n",
    "        tots[c] += 1\n",
    "    return ranks, tots"
   ]
  },
  {
   "cell_type": "code",
   "execution_count": 127,
   "metadata": {},
   "outputs": [],
   "source": [
    "ranks, tots = rankBwt(b)"
   ]
  },
  {
   "cell_type": "code",
   "execution_count": 128,
   "metadata": {},
   "outputs": [
    {
     "data": {
      "text/plain": [
       "{'a': 4, 'b': 2, '$': 1}"
      ]
     },
     "execution_count": 128,
     "metadata": {},
     "output_type": "execute_result"
    }
   ],
   "source": [
    "tots"
   ]
  },
  {
   "cell_type": "code",
   "execution_count": 129,
   "metadata": {},
   "outputs": [
    {
     "data": {
      "text/plain": [
       "[('a', 0), ('b', 0), ('b', 1), ('a', 1), ('$', 0), ('a', 2), ('a', 3)]"
      ]
     },
     "execution_count": 129,
     "metadata": {},
     "output_type": "execute_result"
    }
   ],
   "source": [
    "z = zip(b, ranks)\n",
    "list(z)"
   ]
  },
  {
   "cell_type": "code",
   "execution_count": 130,
   "metadata": {},
   "outputs": [],
   "source": [
    "def firstCol(tots):\n",
    "    ''' Return map from character to the range of rows prefixed by\n",
    "        the character. '''\n",
    "    first = {}\n",
    "    totc = 0\n",
    "    for c, count in sorted(tots.items()):\n",
    "        first[c] = (totc, totc + count)\n",
    "        totc += count\n",
    "    return first"
   ]
  },
  {
   "cell_type": "code",
   "execution_count": 131,
   "metadata": {},
   "outputs": [
    {
     "data": {
      "text/plain": [
       "{'$': (0, 1), 'a': (1, 5), 'b': (5, 7)}"
      ]
     },
     "execution_count": 131,
     "metadata": {},
     "output_type": "execute_result"
    }
   ],
   "source": [
    "firstCol(tots)"
   ]
  },
  {
   "cell_type": "code",
   "execution_count": 132,
   "metadata": {},
   "outputs": [
    {
     "name": "stdout",
     "output_type": "stream",
     "text": [
      "$abaaba\n",
      "a$abaab\n",
      "aaba$ab\n",
      "aba$aba\n",
      "abaaba$\n",
      "ba$abaa\n",
      "baaba$a\n"
     ]
    }
   ],
   "source": [
    "# confirm that the representation of the first column above is sensible\n",
    "print('\\n'.join(bwm(t)))"
   ]
  },
  {
   "cell_type": "code",
   "execution_count": 133,
   "metadata": {},
   "outputs": [],
   "source": [
    "def reverseBwt(bw):\n",
    "    ''' Make T from BWT(T) '''\n",
    "    ranks, tots = rankBwt(bw)\n",
    "    first = firstCol(tots)\n",
    "    rowi = 0 # start in first row\n",
    "    t = '$' # start with rightmost character\n",
    "    while bw[rowi] != '$':\n",
    "        c = bw[rowi]\n",
    "        t = c + t # prepend to answer\n",
    "        # jump to row that starts with c of same rank\n",
    "        rowi = first[c][0] + ranks[rowi]\n",
    "    return t"
   ]
  },
  {
   "cell_type": "code",
   "execution_count": 134,
   "metadata": {},
   "outputs": [
    {
     "data": {
      "text/plain": [
       "'abaaba$'"
      ]
     },
     "execution_count": 134,
     "metadata": {},
     "output_type": "execute_result"
    }
   ],
   "source": [
    "reverseBwt(b)"
   ]
  },
  {
   "cell_type": "markdown",
   "metadata": {},
   "source": [
    "## Generate the Last-to-First Mapping of a String\n",
    "[Rosalind BA9K](http://rosalind.info/problems/ba9k/)"
   ]
  },
  {
   "cell_type": "code",
   "execution_count": 170,
   "metadata": {},
   "outputs": [],
   "source": [
    "def findOccurences(BWT, char):\n",
    "    ''' Find all occurences of character char in string BWT '''\n",
    "    return [i for i, letter in enumerate(BWT) if letter == char]\n",
    "\n",
    "def lastToFirst(BWT, idx):\n",
    "    ''' Get position LastToFirst(i) in the first column in the BWM for a given BWT '''\n",
    "    char = BWT[idx]\n",
    "    occurence = findOccurences(BWT, char).index(idx)\n",
    "    return sorted(BWT).index(char) + occurence"
   ]
  },
  {
   "cell_type": "code",
   "execution_count": 171,
   "metadata": {},
   "outputs": [
    {
     "name": "stdout",
     "output_type": "stream",
     "text": [
      "1\n"
     ]
    }
   ],
   "source": [
    "BWT = 'T$GACCA'\n",
    "idx = 3\n",
    "print(lastToFirst(BWT, idx))"
   ]
  },
  {
   "cell_type": "markdown",
   "metadata": {},
   "source": [
    "## Implement BWMatching\n",
    "[Rosalind BA9L](http://rosalind.info/problems/ba9l/)\n",
    "\n",
    "    BWMATCHING(FirstColumn, LastColumn, Pattern, LastToFirst)\n",
    "        top ← 0\n",
    "        bottom ← |LastColumn| − 1\n",
    "        while top ≤ bottom\n",
    "            if Pattern is nonempty\n",
    "                symbol ← last letter in Pattern\n",
    "                remove last letter from Pattern\n",
    "                if positions from top to bottom in LastColumn contain an occurrence of symbol\n",
    "                    topIndex ← first position of symbol among positions from top to bottom in LastColumn\n",
    "                    bottomIndex ← last position of symbol among positions from top to bottom in LastColumn\n",
    "                    top ← LastToFirst(topIndex)\n",
    "                    bottom ← LastToFirst(bottomIndex)\n",
    "                else\n",
    "                    return 0\n",
    "            else\n",
    "                return bottom − top + 1"
   ]
  },
  {
   "cell_type": "code",
   "execution_count": 178,
   "metadata": {},
   "outputs": [],
   "source": [
    "def BWMMatching(BWT, pattern, l2f):\n",
    "    top = 0\n",
    "    bottom = len(BWT) -1\n",
    "    \n",
    "    while (top <= bottom):\n",
    "        if pattern:\n",
    "            symbol = pattern[-1]\n",
    "            pattern = pattern[:-1]\n",
    "            if symbol in BWT[top:bottom+1]:\n",
    "                topIndex = BWT[top:bottom+1].find(symbol) + top\n",
    "                bottomIndex = BWT[top:bottom+1].rfind(symbol) + top\n",
    "                top = l2f[topIndex]\n",
    "                bottom = l2f[bottomIndex]\n",
    "            else:\n",
    "                return 0\n",
    "        else:\n",
    "            return bottom - top + 1"
   ]
  },
  {
   "cell_type": "code",
   "execution_count": 179,
   "metadata": {},
   "outputs": [
    {
     "name": "stdout",
     "output_type": "stream",
     "text": [
      "2 1 1 0 1\n"
     ]
    }
   ],
   "source": [
    "BWT = 'TCCTCTATGAGATCCTATTCTATGAAACCTTCA$GACCAAAATTCTCCGGC'\n",
    "patterns = 'CCT CAC GAG CAG ATC'\n",
    "patterns = patterns.split()\n",
    "l2f = []\n",
    "for idx in range(0, len(BWT)):\n",
    "        l2f.append(lastToFirst(BWT, idx))\n",
    "print(\" \".join(str(BWMMatching(BWT, pattern, l2f)) for pattern in patterns))"
   ]
  },
  {
   "cell_type": "code",
   "execution_count": null,
   "metadata": {},
   "outputs": [],
   "source": []
  }
 ],
 "metadata": {
  "kernelspec": {
   "display_name": "Python 3",
   "language": "python",
   "name": "python3"
  },
  "language_info": {
   "codemirror_mode": {
    "name": "ipython",
    "version": 3
   },
   "file_extension": ".py",
   "mimetype": "text/x-python",
   "name": "python",
   "nbconvert_exporter": "python",
   "pygments_lexer": "ipython3",
   "version": "3.7.1"
  }
 },
 "nbformat": 4,
 "nbformat_minor": 4
}
