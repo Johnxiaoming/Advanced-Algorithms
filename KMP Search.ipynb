{
 "cells": [
  {
   "cell_type": "raw",
   "metadata": {},
   "source": [
    "2.1"
   ]
  },
  {
   "cell_type": "raw",
   "metadata": {},
   "source": [
    "P      T  A  C  T  A \n",
    "q      0  1  2  3  4 \n",
    "pm[q]   0  0  0  1  2"
   ]
  },
  {
   "cell_type": "raw",
   "metadata": {},
   "source": [
    "2.2"
   ]
  },
  {
   "cell_type": "raw",
   "metadata": {},
   "source": [
    "i = 0  1  2  3  4  5  6  7  8  9  10 11 12 13\n",
    "T = T  A  C  T  A  G  T  A  C  T  A  C  T  A\n",
    "P = T  A  C  T  A\n",
    "\n",
    "i\tq\tpm[q]\tcomment\n",
    "0\t0\t0\tMatch found\n",
    "1\t1\t0\tMatch found\n",
    "2\t2\t0\tMatch found\n",
    "3\t3\t1\tMatch found\n",
    "4\t4\t2\tPattern found! Add (i+1) - (q+1) to match site list.（0）set q=pm[q-1]=1\n",
    "4\t1\t0\tMatch found\n",
    "5\t2\t2\tMismacth found. set q = pm[q-1]=0,i++\n",
    "6\t0\t2\tMatch found\n",
    "7\t1\t2\tMatch found\n",
    "8\t2\t2\tMatch found\n",
    "9\t3\t2\tMatch found\n",
    "10\t4\t2\tPattern found! Add (i+1) - (q+1) to match site list.（6）set q=pm[q-1]=1\n",
    "10\t1\t2\tMatch found\n",
    "11\t2\t2\tMatch found\n",
    "12\t3\t2\tMatch found\n",
    "13\t4\t2\tPattern found! Add (i+1) - (q+1) to match site list.(9)"
   ]
  },
  {
   "cell_type": "raw",
   "metadata": {},
   "source": [
    "2.3"
   ]
  },
  {
   "cell_type": "code",
   "execution_count": 1,
   "metadata": {},
   "outputs": [
    {
     "name": "stdout",
     "output_type": "stream",
     "text": [
      "[0, 0, 0, 1, 2]\n"
     ]
    }
   ],
   "source": [
    "def KMPSearch(pattern, txt): \n",
    "    \n",
    "    m = len(txt) \n",
    "    n = len(pattern)\n",
    "\n",
    "    q = 0 # index for pattern[] \n",
    "\n",
    "    # Preprocess the pattern (calculate pm[] array) \n",
    "    pm = PartialMatchTableSimple(pattern)\n",
    "\n",
    "    i = 0 # index for txt[] \n",
    "    while i < m: \n",
    "        if pattern[q] == txt[i]: \n",
    "            i += 1\n",
    "            q += 1\n",
    "\n",
    "        if q == n: \n",
    "            print (\"Found pattern at index \" + str(i-q) )\n",
    "            q = pm[q-1] \n",
    "\n",
    "        # mismatch after q matches \n",
    "        elif i < m and pattern[q] != txt[i]: \n",
    "            # Do not match pm[0..pm[q-1]] characters\n",
    "            if q != 0: \n",
    "                q = pm[q-1] \n",
    "            else: \n",
    "                i += 1\n",
    "    return \n",
    "\n",
    "\n",
    "def PartialMatchTableSimple(pattern):\n",
    "    n = len(pattern)\n",
    "    pm = [0]*n\n",
    "    k = 0\n",
    "    \n",
    "    for q in range (1, n):\n",
    "        k=q\n",
    "        while (k >0):\n",
    "            prefix = pattern[0:k]\n",
    "            suffix = pattern[q+1-k:q+1]\n",
    "            if (prefix == suffix):\n",
    "                break\n",
    "            else:\n",
    "                k -= 1\n",
    "        pm[q] = k\n",
    "    return pm\n",
    "\n",
    "pattern = \"TACTA\"\n",
    "txt = \"TACTAGTACTACTA\"\n",
    "print (PartialMatchTableSimple(pattern))"
   ]
  },
  {
   "cell_type": "code",
   "execution_count": 2,
   "metadata": {},
   "outputs": [
    {
     "name": "stdout",
     "output_type": "stream",
     "text": [
      "Found pattern at index 0\n",
      "Found pattern at index 6\n",
      "Found pattern at index 9\n"
     ]
    }
   ],
   "source": [
    "KMPSearch(pattern, txt)"
   ]
  }
 ],
 "metadata": {
  "kernelspec": {
   "display_name": "Python 3",
   "language": "python",
   "name": "python3"
  },
  "language_info": {
   "codemirror_mode": {
    "name": "ipython",
    "version": 3
   },
   "file_extension": ".py",
   "mimetype": "text/x-python",
   "name": "python",
   "nbconvert_exporter": "python",
   "pygments_lexer": "ipython3",
   "version": "3.8.3"
  }
 },
 "nbformat": 4,
 "nbformat_minor": 4
}
